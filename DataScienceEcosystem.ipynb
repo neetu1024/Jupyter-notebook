{
 "cells": [
  {
   "cell_type": "markdown",
   "id": "aa8f10c1-8844-42fa-9dcf-9118064629cb",
   "metadata": {
    "tags": []
   },
   "source": [
    "# Data Science Tools And Ecosystem"
   ]
  },
  {
   "cell_type": "markdown",
   "id": "74069f1e-7533-45e7-9471-542b9bf485a5",
   "metadata": {
    "tags": []
   },
   "source": [
    "In this notebook, Data Science Tools and Ecosystem are summarized.   \n",
    "__objectives:__   \n",
    "list of popular languages for data science  \n",
    "list of commonly used library by data scientists  \n",
    "table of data science tools  \n",
    "convert minutes to hours by dividing by 60\n"
   ]
  },
  {
   "cell_type": "markdown",
   "id": "c8c94281-bb0d-4caa-a32b-ade4ad1a7b75",
   "metadata": {},
   "source": [
    "some of the popular language that Data Scientists use are:\n",
    "1. python\n",
    "2. SQL\n",
    "3. R programming\n"
   ]
  },
  {
   "cell_type": "markdown",
   "id": "6ab91fa5-9b40-4eb2-8d61-20a57da103e9",
   "metadata": {},
   "source": [
    "Some of the commonly used libraries used by Data Scientists include:\n",
    "\n",
    "1.Pandas\n",
    "\n",
    "2.NumPy\n",
    "\n",
    "3.Matplotlib\n",
    "\n",
    "4.scitkit-learn"
   ]
  },
  {
   "cell_type": "markdown",
   "id": "4286a636-7785-4fb1-8e41-729a7dcbccb4",
   "metadata": {},
   "source": [
    "# Table of data science tools"
   ]
  },
  {
   "cell_type": "markdown",
   "id": "cd614a2a-f438-4630-9074-ab825dceb357",
   "metadata": {
    "tags": []
   },
   "source": [
    "|Data Science Tools|\n",
    "|-------------------|\n",
    "|Jupyter Notebook|\n",
    "|Spyder|\n",
    "|RSstudio|"
   ]
  },
  {
   "cell_type": "markdown",
   "id": "d7806a2e-65ac-4ba0-afc6-7320f276d113",
   "metadata": {},
   "source": [
    "### below are a few example of evaluating arithmetic expressions in python"
   ]
  },
  {
   "cell_type": "code",
   "execution_count": 3,
   "id": "9edecb51-bffb-4276-9df9-4c66ba47381f",
   "metadata": {
    "tags": []
   },
   "outputs": [
    {
     "name": "stdout",
     "output_type": "stream",
     "text": [
      "17\n"
     ]
    }
   ],
   "source": [
    "# This is a simple arithmetic expression to multiply then add integers\n",
    "expression = (3*4)+5\n",
    "print(expression)"
   ]
  },
  {
   "cell_type": "code",
   "execution_count": 4,
   "id": "4ce5b650-fec9-4ff1-82b7-9e9805211acb",
   "metadata": {
    "tags": []
   },
   "outputs": [
    {
     "name": "stdout",
     "output_type": "stream",
     "text": [
      "3.3333333333333335\n"
     ]
    }
   ],
   "source": [
    "# This will convert 200 minutes to hours by dividing by 60.\n",
    "minutes=200\n",
    "hours=minutes/60\n",
    "print(hours)"
   ]
  },
  {
   "cell_type": "markdown",
   "id": "a382ab3c-0cc3-4f22-a1c0-1070916ca109",
   "metadata": {
    "tags": []
   },
   "source": [
    "## Author\n",
    "Lakshmi Holla  \n",
    "Niveditha Pandith"
   ]
  },
  {
   "cell_type": "code",
   "execution_count": null,
   "id": "0fc8f139-9fce-4c5a-838f-bcda57c6cc71",
   "metadata": {},
   "outputs": [],
   "source": []
  }
 ],
 "metadata": {
  "kernelspec": {
   "display_name": "Python",
   "language": "python",
   "name": "conda-env-python-py"
  },
  "language_info": {
   "codemirror_mode": {
    "name": "ipython",
    "version": 3
   },
   "file_extension": ".py",
   "mimetype": "text/x-python",
   "name": "python",
   "nbconvert_exporter": "python",
   "pygments_lexer": "ipython3",
   "version": "3.7.12"
  }
 },
 "nbformat": 4,
 "nbformat_minor": 5
}
